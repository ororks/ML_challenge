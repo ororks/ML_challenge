{
 "cells": [
  {
   "cell_type": "code",
   "execution_count": 31,
   "id": "a403df17-322a-414b-a1b7-3a5b6daa9cdb",
   "metadata": {
    "tags": []
   },
   "outputs": [],
   "source": [
    "# Standard Libraries\n",
    "import os\n",
    "import glob\n",
    "import time\n",
    "import random\n",
    "import datetime\n",
    "import numpy as np\n",
    "import pandas as pd\n",
    "import scipy\n",
    "from scipy import optimize\n",
    "from scipy.stats import multivariate_normal\n",
    "import seaborn as sns\n",
    "\n",
    "# Visualization Libraries\n",
    "import matplotlib\n",
    "matplotlib.use('TkAgg', force=True)\n",
    "from matplotlib import pyplot as plt\n",
    "from matplotlib.lines import Line2D\n",
    "from matplotlib.colors import ListedColormap\n",
    "import seaborn as sns\n",
    "sns.set(style=\"ticks\", color_codes=True)\n",
    "import missingno\n",
    "\n",
    "# Image Processing Libraries\n",
    "import PIL\n",
    "import imageio\n",
    "\n",
    "# IPython Display\n",
    "from IPython import display\n",
    "\n",
    "# PyMC for Bayesian Modeling\n",
    "import pymc as pm\n",
    "import arviz as az\n",
    "\n",
    "# Scikit-Learn Libraries\n",
    "import sklearn\n",
    "from sklearn.decomposition import PCA\n",
    "from sklearn.preprocessing import StandardScaler, OneHotEncoder\n",
    "from sklearn.compose import ColumnTransformer\n",
    "from sklearn.impute import SimpleImputer\n",
    "from sklearn.linear_model import LogisticRegression\n",
    "from sklearn.ensemble import VotingClassifier, AdaBoostClassifier, RandomForestClassifier, BaggingClassifier\n",
    "from sklearn.tree import DecisionTreeClassifier\n",
    "from sklearn.model_selection import train_test_split, cross_val_score, learning_curve, RandomizedSearchCV, StratifiedKFold, KFold\n",
    "from sklearn.pipeline import Pipeline, make_pipeline\n",
    "from sklearn.datasets import make_moons, make_blobs\n",
    "from sklearn.svm import SVC\n",
    "from sklearn.metrics import (classification_report, confusion_matrix, accuracy_score, \n",
    "                             precision_score, recall_score, f1_score, roc_auc_score, \n",
    "                             average_precision_score, roc_curve, precision_recall_curve, \n",
    "                             ConfusionMatrixDisplay, make_scorer, matthews_corrcoef)\n",
    "\n",
    "# XGBoost classique\n",
    "import xgboost as xgb\n",
    "\n"
   ]
  },
  {
   "cell_type": "markdown",
   "id": "4bb7b80b-80cc-48d8-83a5-df79f0f8d0c8",
   "metadata": {},
   "source": [
    "### Import des données "
   ]
  },
  {
   "cell_type": "code",
   "execution_count": 2,
   "id": "3193a23e-0f36-4c80-bebe-e87d4ade831f",
   "metadata": {
    "tags": []
   },
   "outputs": [],
   "source": [
    "# Chargement des données\n",
    "X_train = pd.read_csv(\"data/X_train.csv\", parse_dates=['DELIVERY_START'])\n",
    "\n",
    "X_test = pd.read_csv(\"data/X_test.csv\", parse_dates=['DELIVERY_START'])\n",
    "\n",
    "y_train = pd.read_csv(\"data/y_train.csv\", parse_dates=['DELIVERY_START'])"
   ]
  },
  {
   "cell_type": "code",
   "execution_count": 3,
   "id": "6fd72c92-a738-4f05-9436-1525d6bde44a",
   "metadata": {
    "tags": []
   },
   "outputs": [
    {
     "data": {
      "text/html": [
       "<div>\n",
       "<style scoped>\n",
       "    .dataframe tbody tr th:only-of-type {\n",
       "        vertical-align: middle;\n",
       "    }\n",
       "\n",
       "    .dataframe tbody tr th {\n",
       "        vertical-align: top;\n",
       "    }\n",
       "\n",
       "    .dataframe thead th {\n",
       "        text-align: right;\n",
       "    }\n",
       "</style>\n",
       "<table border=\"1\" class=\"dataframe\">\n",
       "  <thead>\n",
       "    <tr style=\"text-align: right;\">\n",
       "      <th></th>\n",
       "      <th>load_forecast</th>\n",
       "      <th>coal_power_available</th>\n",
       "      <th>gas_power_available</th>\n",
       "      <th>nucelear_power_available</th>\n",
       "      <th>wind_power_forecasts_average</th>\n",
       "      <th>solar_power_forecasts_average</th>\n",
       "      <th>wind_power_forecasts_std</th>\n",
       "      <th>solar_power_forecasts_std</th>\n",
       "      <th>predicted_spot_price</th>\n",
       "    </tr>\n",
       "  </thead>\n",
       "  <tbody>\n",
       "    <tr>\n",
       "      <th>count</th>\n",
       "      <td>9318.000000</td>\n",
       "      <td>10604.000000</td>\n",
       "      <td>10604.000000</td>\n",
       "      <td>10604.000000</td>\n",
       "      <td>10581.000000</td>\n",
       "      <td>10581.000000</td>\n",
       "      <td>10581.000000</td>\n",
       "      <td>10581.000000</td>\n",
       "      <td>1846.000000</td>\n",
       "    </tr>\n",
       "    <tr>\n",
       "      <th>mean</th>\n",
       "      <td>53725.132968</td>\n",
       "      <td>2819.781592</td>\n",
       "      <td>11463.220671</td>\n",
       "      <td>35393.282252</td>\n",
       "      <td>4512.989415</td>\n",
       "      <td>1919.281353</td>\n",
       "      <td>125.399422</td>\n",
       "      <td>24.997384</td>\n",
       "      <td>140.256024</td>\n",
       "    </tr>\n",
       "    <tr>\n",
       "      <th>std</th>\n",
       "      <td>11274.194929</td>\n",
       "      <td>495.103588</td>\n",
       "      <td>483.799154</td>\n",
       "      <td>7619.820162</td>\n",
       "      <td>3349.419356</td>\n",
       "      <td>2706.963383</td>\n",
       "      <td>132.152875</td>\n",
       "      <td>43.083977</td>\n",
       "      <td>33.922669</td>\n",
       "    </tr>\n",
       "    <tr>\n",
       "      <th>min</th>\n",
       "      <td>30515.000000</td>\n",
       "      <td>1646.000000</td>\n",
       "      <td>9769.000000</td>\n",
       "      <td>22285.000000</td>\n",
       "      <td>592.000000</td>\n",
       "      <td>0.000000</td>\n",
       "      <td>1.830211</td>\n",
       "      <td>0.000000</td>\n",
       "      <td>42.420000</td>\n",
       "    </tr>\n",
       "    <tr>\n",
       "      <th>25%</th>\n",
       "      <td>45336.500000</td>\n",
       "      <td>2226.000000</td>\n",
       "      <td>11140.000000</td>\n",
       "      <td>29005.000000</td>\n",
       "      <td>2036.000000</td>\n",
       "      <td>0.000000</td>\n",
       "      <td>46.818974</td>\n",
       "      <td>0.000000</td>\n",
       "      <td>119.405000</td>\n",
       "    </tr>\n",
       "    <tr>\n",
       "      <th>50%</th>\n",
       "      <td>51846.000000</td>\n",
       "      <td>2806.000000</td>\n",
       "      <td>11487.000000</td>\n",
       "      <td>32470.000000</td>\n",
       "      <td>3319.000000</td>\n",
       "      <td>149.000000</td>\n",
       "      <td>86.700163</td>\n",
       "      <td>3.507229</td>\n",
       "      <td>140.040000</td>\n",
       "    </tr>\n",
       "    <tr>\n",
       "      <th>75%</th>\n",
       "      <td>62091.750000</td>\n",
       "      <td>3386.000000</td>\n",
       "      <td>11945.000000</td>\n",
       "      <td>43055.000000</td>\n",
       "      <td>5951.000000</td>\n",
       "      <td>3507.000000</td>\n",
       "      <td>155.325644</td>\n",
       "      <td>35.137019</td>\n",
       "      <td>160.765000</td>\n",
       "    </tr>\n",
       "    <tr>\n",
       "      <th>max</th>\n",
       "      <td>85145.000000</td>\n",
       "      <td>3391.000000</td>\n",
       "      <td>11963.000000</td>\n",
       "      <td>50122.000000</td>\n",
       "      <td>15167.000000</td>\n",
       "      <td>10127.000000</td>\n",
       "      <td>1871.571992</td>\n",
       "      <td>745.261316</td>\n",
       "      <td>254.190000</td>\n",
       "    </tr>\n",
       "  </tbody>\n",
       "</table>\n",
       "</div>"
      ],
      "text/plain": [
       "       load_forecast  coal_power_available  gas_power_available  \\\n",
       "count    9318.000000          10604.000000         10604.000000   \n",
       "mean    53725.132968           2819.781592         11463.220671   \n",
       "std     11274.194929            495.103588           483.799154   \n",
       "min     30515.000000           1646.000000          9769.000000   \n",
       "25%     45336.500000           2226.000000         11140.000000   \n",
       "50%     51846.000000           2806.000000         11487.000000   \n",
       "75%     62091.750000           3386.000000         11945.000000   \n",
       "max     85145.000000           3391.000000         11963.000000   \n",
       "\n",
       "       nucelear_power_available  wind_power_forecasts_average  \\\n",
       "count              10604.000000                  10581.000000   \n",
       "mean               35393.282252                   4512.989415   \n",
       "std                 7619.820162                   3349.419356   \n",
       "min                22285.000000                    592.000000   \n",
       "25%                29005.000000                   2036.000000   \n",
       "50%                32470.000000                   3319.000000   \n",
       "75%                43055.000000                   5951.000000   \n",
       "max                50122.000000                  15167.000000   \n",
       "\n",
       "       solar_power_forecasts_average  wind_power_forecasts_std  \\\n",
       "count                   10581.000000              10581.000000   \n",
       "mean                     1919.281353                125.399422   \n",
       "std                      2706.963383                132.152875   \n",
       "min                         0.000000                  1.830211   \n",
       "25%                         0.000000                 46.818974   \n",
       "50%                       149.000000                 86.700163   \n",
       "75%                      3507.000000                155.325644   \n",
       "max                     10127.000000               1871.571992   \n",
       "\n",
       "       solar_power_forecasts_std  predicted_spot_price  \n",
       "count               10581.000000           1846.000000  \n",
       "mean                   24.997384            140.256024  \n",
       "std                    43.083977             33.922669  \n",
       "min                     0.000000             42.420000  \n",
       "25%                     0.000000            119.405000  \n",
       "50%                     3.507229            140.040000  \n",
       "75%                    35.137019            160.765000  \n",
       "max                   745.261316            254.190000  "
      ]
     },
     "execution_count": 3,
     "metadata": {},
     "output_type": "execute_result"
    }
   ],
   "source": [
    "X_train.describe()"
   ]
  },
  {
   "cell_type": "code",
   "execution_count": 4,
   "id": "0b308219-8235-4a70-a097-4b862c731479",
   "metadata": {
    "tags": []
   },
   "outputs": [
    {
     "data": {
      "text/html": [
       "<div>\n",
       "<style scoped>\n",
       "    .dataframe tbody tr th:only-of-type {\n",
       "        vertical-align: middle;\n",
       "    }\n",
       "\n",
       "    .dataframe tbody tr th {\n",
       "        vertical-align: top;\n",
       "    }\n",
       "\n",
       "    .dataframe thead th {\n",
       "        text-align: right;\n",
       "    }\n",
       "</style>\n",
       "<table border=\"1\" class=\"dataframe\">\n",
       "  <thead>\n",
       "    <tr style=\"text-align: right;\">\n",
       "      <th></th>\n",
       "      <th>DELIVERY_START</th>\n",
       "      <th>load_forecast</th>\n",
       "      <th>coal_power_available</th>\n",
       "      <th>gas_power_available</th>\n",
       "      <th>nucelear_power_available</th>\n",
       "      <th>wind_power_forecasts_average</th>\n",
       "      <th>solar_power_forecasts_average</th>\n",
       "      <th>wind_power_forecasts_std</th>\n",
       "      <th>solar_power_forecasts_std</th>\n",
       "      <th>predicted_spot_price</th>\n",
       "    </tr>\n",
       "  </thead>\n",
       "  <tbody>\n",
       "    <tr>\n",
       "      <th>0</th>\n",
       "      <td>2022-01-01 02:00:00+01:00</td>\n",
       "      <td>49439.0</td>\n",
       "      <td>3386.0</td>\n",
       "      <td>11487.0</td>\n",
       "      <td>44118.0</td>\n",
       "      <td>3035.0</td>\n",
       "      <td>0.0</td>\n",
       "      <td>79.248348</td>\n",
       "      <td>0.000000</td>\n",
       "      <td>NaN</td>\n",
       "    </tr>\n",
       "    <tr>\n",
       "      <th>1</th>\n",
       "      <td>2022-01-01 03:00:00+01:00</td>\n",
       "      <td>46511.0</td>\n",
       "      <td>3386.0</td>\n",
       "      <td>11487.0</td>\n",
       "      <td>44118.0</td>\n",
       "      <td>3143.0</td>\n",
       "      <td>0.0</td>\n",
       "      <td>61.776532</td>\n",
       "      <td>0.000000</td>\n",
       "      <td>NaN</td>\n",
       "    </tr>\n",
       "    <tr>\n",
       "      <th>2</th>\n",
       "      <td>2022-01-01 04:00:00+01:00</td>\n",
       "      <td>45158.0</td>\n",
       "      <td>3386.0</td>\n",
       "      <td>11487.0</td>\n",
       "      <td>44118.0</td>\n",
       "      <td>3288.0</td>\n",
       "      <td>0.0</td>\n",
       "      <td>44.291112</td>\n",
       "      <td>0.000000</td>\n",
       "      <td>NaN</td>\n",
       "    </tr>\n",
       "    <tr>\n",
       "      <th>3</th>\n",
       "      <td>2022-01-01 05:00:00+01:00</td>\n",
       "      <td>44779.0</td>\n",
       "      <td>3386.0</td>\n",
       "      <td>11487.0</td>\n",
       "      <td>44118.0</td>\n",
       "      <td>3447.0</td>\n",
       "      <td>0.0</td>\n",
       "      <td>36.127588</td>\n",
       "      <td>0.000000</td>\n",
       "      <td>NaN</td>\n",
       "    </tr>\n",
       "    <tr>\n",
       "      <th>4</th>\n",
       "      <td>2022-01-01 06:00:00+01:00</td>\n",
       "      <td>45284.0</td>\n",
       "      <td>3386.0</td>\n",
       "      <td>11487.0</td>\n",
       "      <td>44118.0</td>\n",
       "      <td>3679.0</td>\n",
       "      <td>0.0</td>\n",
       "      <td>30.983023</td>\n",
       "      <td>0.000000</td>\n",
       "      <td>NaN</td>\n",
       "    </tr>\n",
       "    <tr>\n",
       "      <th>5</th>\n",
       "      <td>2022-01-01 07:00:00+01:00</td>\n",
       "      <td>45648.0</td>\n",
       "      <td>3386.0</td>\n",
       "      <td>11487.0</td>\n",
       "      <td>44118.0</td>\n",
       "      <td>3902.0</td>\n",
       "      <td>0.0</td>\n",
       "      <td>27.624052</td>\n",
       "      <td>0.000000</td>\n",
       "      <td>NaN</td>\n",
       "    </tr>\n",
       "    <tr>\n",
       "      <th>6</th>\n",
       "      <td>2022-01-01 08:00:00+01:00</td>\n",
       "      <td>45909.0</td>\n",
       "      <td>3386.0</td>\n",
       "      <td>11487.0</td>\n",
       "      <td>44118.0</td>\n",
       "      <td>4092.0</td>\n",
       "      <td>198.0</td>\n",
       "      <td>44.944701</td>\n",
       "      <td>6.195349</td>\n",
       "      <td>NaN</td>\n",
       "    </tr>\n",
       "    <tr>\n",
       "      <th>7</th>\n",
       "      <td>2022-01-01 09:00:00+01:00</td>\n",
       "      <td>47091.0</td>\n",
       "      <td>3386.0</td>\n",
       "      <td>11487.0</td>\n",
       "      <td>44118.0</td>\n",
       "      <td>4315.0</td>\n",
       "      <td>1012.0</td>\n",
       "      <td>30.505330</td>\n",
       "      <td>23.239957</td>\n",
       "      <td>NaN</td>\n",
       "    </tr>\n",
       "    <tr>\n",
       "      <th>8</th>\n",
       "      <td>2022-01-01 10:00:00+01:00</td>\n",
       "      <td>48300.0</td>\n",
       "      <td>3386.0</td>\n",
       "      <td>11487.0</td>\n",
       "      <td>44118.0</td>\n",
       "      <td>4436.0</td>\n",
       "      <td>2401.0</td>\n",
       "      <td>35.835910</td>\n",
       "      <td>44.450154</td>\n",
       "      <td>NaN</td>\n",
       "    </tr>\n",
       "    <tr>\n",
       "      <th>9</th>\n",
       "      <td>2022-01-01 11:00:00+01:00</td>\n",
       "      <td>49559.0</td>\n",
       "      <td>3386.0</td>\n",
       "      <td>11487.0</td>\n",
       "      <td>44118.0</td>\n",
       "      <td>4459.0</td>\n",
       "      <td>3699.0</td>\n",
       "      <td>57.670945</td>\n",
       "      <td>53.426489</td>\n",
       "      <td>NaN</td>\n",
       "    </tr>\n",
       "  </tbody>\n",
       "</table>\n",
       "</div>"
      ],
      "text/plain": [
       "              DELIVERY_START  load_forecast  coal_power_available  \\\n",
       "0  2022-01-01 02:00:00+01:00        49439.0                3386.0   \n",
       "1  2022-01-01 03:00:00+01:00        46511.0                3386.0   \n",
       "2  2022-01-01 04:00:00+01:00        45158.0                3386.0   \n",
       "3  2022-01-01 05:00:00+01:00        44779.0                3386.0   \n",
       "4  2022-01-01 06:00:00+01:00        45284.0                3386.0   \n",
       "5  2022-01-01 07:00:00+01:00        45648.0                3386.0   \n",
       "6  2022-01-01 08:00:00+01:00        45909.0                3386.0   \n",
       "7  2022-01-01 09:00:00+01:00        47091.0                3386.0   \n",
       "8  2022-01-01 10:00:00+01:00        48300.0                3386.0   \n",
       "9  2022-01-01 11:00:00+01:00        49559.0                3386.0   \n",
       "\n",
       "   gas_power_available  nucelear_power_available  \\\n",
       "0              11487.0                   44118.0   \n",
       "1              11487.0                   44118.0   \n",
       "2              11487.0                   44118.0   \n",
       "3              11487.0                   44118.0   \n",
       "4              11487.0                   44118.0   \n",
       "5              11487.0                   44118.0   \n",
       "6              11487.0                   44118.0   \n",
       "7              11487.0                   44118.0   \n",
       "8              11487.0                   44118.0   \n",
       "9              11487.0                   44118.0   \n",
       "\n",
       "   wind_power_forecasts_average  solar_power_forecasts_average  \\\n",
       "0                        3035.0                            0.0   \n",
       "1                        3143.0                            0.0   \n",
       "2                        3288.0                            0.0   \n",
       "3                        3447.0                            0.0   \n",
       "4                        3679.0                            0.0   \n",
       "5                        3902.0                            0.0   \n",
       "6                        4092.0                          198.0   \n",
       "7                        4315.0                         1012.0   \n",
       "8                        4436.0                         2401.0   \n",
       "9                        4459.0                         3699.0   \n",
       "\n",
       "   wind_power_forecasts_std  solar_power_forecasts_std  predicted_spot_price  \n",
       "0                 79.248348                   0.000000                   NaN  \n",
       "1                 61.776532                   0.000000                   NaN  \n",
       "2                 44.291112                   0.000000                   NaN  \n",
       "3                 36.127588                   0.000000                   NaN  \n",
       "4                 30.983023                   0.000000                   NaN  \n",
       "5                 27.624052                   0.000000                   NaN  \n",
       "6                 44.944701                   6.195349                   NaN  \n",
       "7                 30.505330                  23.239957                   NaN  \n",
       "8                 35.835910                  44.450154                   NaN  \n",
       "9                 57.670945                  53.426489                   NaN  "
      ]
     },
     "execution_count": 4,
     "metadata": {},
     "output_type": "execute_result"
    }
   ],
   "source": [
    "X_train.head(10)"
   ]
  },
  {
   "cell_type": "markdown",
   "id": "76975b52-f8e6-4fb6-9566-08919b99ebe9",
   "metadata": {},
   "source": [
    "### Pre-traitement"
   ]
  },
  {
   "cell_type": "code",
   "execution_count": 5,
   "id": "d75e025c-f002-4c53-a05c-64c4e8ec79f2",
   "metadata": {
    "tags": []
   },
   "outputs": [
    {
     "name": "stdout",
     "output_type": "stream",
     "text": [
      "<class 'pandas.core.frame.DataFrame'>\n",
      "RangeIndex: 10605 entries, 0 to 10604\n",
      "Data columns (total 10 columns):\n",
      " #   Column                         Non-Null Count  Dtype  \n",
      "---  ------                         --------------  -----  \n",
      " 0   DELIVERY_START                 10605 non-null  object \n",
      " 1   load_forecast                  9318 non-null   float64\n",
      " 2   coal_power_available           10604 non-null  float64\n",
      " 3   gas_power_available            10604 non-null  float64\n",
      " 4   nucelear_power_available       10604 non-null  float64\n",
      " 5   wind_power_forecasts_average   10581 non-null  float64\n",
      " 6   solar_power_forecasts_average  10581 non-null  float64\n",
      " 7   wind_power_forecasts_std       10581 non-null  float64\n",
      " 8   solar_power_forecasts_std      10581 non-null  float64\n",
      " 9   predicted_spot_price           1846 non-null   float64\n",
      "dtypes: float64(9), object(1)\n",
      "memory usage: 828.6+ KB\n",
      "<class 'pandas.core.frame.DataFrame'>\n",
      "RangeIndex: 4942 entries, 0 to 4941\n",
      "Data columns (total 10 columns):\n",
      " #   Column                         Non-Null Count  Dtype                    \n",
      "---  ------                         --------------  -----                    \n",
      " 0   DELIVERY_START                 4942 non-null   datetime64[ns, UTC+02:00]\n",
      " 1   load_forecast                  4942 non-null   float64                  \n",
      " 2   coal_power_available           4942 non-null   float64                  \n",
      " 3   gas_power_available            4942 non-null   float64                  \n",
      " 4   nucelear_power_available       4942 non-null   float64                  \n",
      " 5   wind_power_forecasts_average   4942 non-null   float64                  \n",
      " 6   solar_power_forecasts_average  4918 non-null   float64                  \n",
      " 7   wind_power_forecasts_std       4942 non-null   float64                  \n",
      " 8   solar_power_forecasts_std      4918 non-null   float64                  \n",
      " 9   predicted_spot_price           3406 non-null   float64                  \n",
      "dtypes: datetime64[ns, UTC+02:00](1), float64(9)\n",
      "memory usage: 386.2 KB\n",
      "DELIVERY_START                      0\n",
      "load_forecast                    1287\n",
      "coal_power_available                1\n",
      "gas_power_available                 1\n",
      "nucelear_power_available            1\n",
      "wind_power_forecasts_average       24\n",
      "solar_power_forecasts_average      24\n",
      "wind_power_forecasts_std           24\n",
      "solar_power_forecasts_std          24\n",
      "predicted_spot_price             8759\n",
      "dtype: int64 DELIVERY_START                      0\n",
      "load_forecast                       0\n",
      "coal_power_available                0\n",
      "gas_power_available                 0\n",
      "nucelear_power_available            0\n",
      "wind_power_forecasts_average        0\n",
      "solar_power_forecasts_average      24\n",
      "wind_power_forecasts_std            0\n",
      "solar_power_forecasts_std          24\n",
      "predicted_spot_price             1536\n",
      "dtype: int64\n"
     ]
    }
   ],
   "source": [
    "# Check\n",
    "X_train.info()\n",
    "X_test.info()\n",
    "\n",
    "X_train.isnull().sum()\n",
    "X_train.isnull().mean()*100\n",
    "\n",
    "X_test.isnull().sum()\n",
    "X_test.isnull().mean()*100\n",
    "\n",
    "print(X_train.isna().sum(),\n",
    "     X_test.isna().sum())"
   ]
  },
  {
   "cell_type": "code",
   "execution_count": 8,
   "id": "a40f310d-076f-4a29-84f9-56718de60cd8",
   "metadata": {
    "tags": []
   },
   "outputs": [],
   "source": [
    "# Matrice de valeurs manquantes\n",
    "missingno.matrix(X_train)\n",
    "plt.show()"
   ]
  },
  {
   "cell_type": "code",
   "execution_count": 9,
   "id": "b0aba93e-1c0e-43fd-94ae-0ed19e7fd4a9",
   "metadata": {},
   "outputs": [
    {
     "name": "stdout",
     "output_type": "stream",
     "text": [
      "DELIVERY_START                      0\n",
      "load_forecast                       0\n",
      "coal_power_available                0\n",
      "gas_power_available                 0\n",
      "nucelear_power_available            0\n",
      "wind_power_forecasts_average        0\n",
      "solar_power_forecasts_average       0\n",
      "wind_power_forecasts_std            0\n",
      "solar_power_forecasts_std           0\n",
      "predicted_spot_price             8759\n",
      "dtype: int64 DELIVERY_START                      0\n",
      "load_forecast                       0\n",
      "coal_power_available                0\n",
      "gas_power_available                 0\n",
      "nucelear_power_available            0\n",
      "wind_power_forecasts_average        0\n",
      "solar_power_forecasts_average       0\n",
      "wind_power_forecasts_std            0\n",
      "solar_power_forecasts_std           0\n",
      "predicted_spot_price             1536\n",
      "dtype: int64\n"
     ]
    }
   ],
   "source": [
    "# On peut soit drop \"predictes_spot_price\" soit utiliser une méthode d'imputation des données\n",
    "# car vraiment bcp de valeurs manquantes pour cette feature.\n",
    "imputer = SimpleImputer(strategy='mean')\n",
    "X_train.iloc[:, 1:9] = imputer.fit_transform(X_train.iloc[:, 1:9])\n",
    "X_test.iloc[:, 1:9] = imputer.fit_transform(X_test.iloc[:, 1:9])\n",
    "\n",
    "print(X_train.isna().sum(),\n",
    "     X_test.isna().sum())"
   ]
  },
  {
   "cell_type": "code",
   "execution_count": 10,
   "id": "a4ed039b-6bd3-4f31-8a4c-929c5e7c5673",
   "metadata": {},
   "outputs": [],
   "source": [
    "X_train = X_train.drop([\"predicted_spot_price\"], axis=1)\n",
    "X_test = X_test.drop([\"predicted_spot_price\"], axis=1)"
   ]
  },
  {
   "cell_type": "code",
   "execution_count": 11,
   "id": "c281ce84-2e57-4e07-a067-a8da9940652b",
   "metadata": {
    "tags": []
   },
   "outputs": [],
   "source": [
    "\n",
    "# Constructions de quelques features supplémentaires\n",
    "X_train['DELIVERY_START'] = pd.to_datetime(X_train['DELIVERY_START'], utc=True)\n",
    "X_test['DELIVERY_START'] =  pd.to_datetime(X_test['DELIVERY_START'], utc=True)\n",
    "\n",
    "for df in [X_train, X_test]:\n",
    "    df['hour'] = df['DELIVERY_START'].dt.hour\n",
    "    df['day'] = df['DELIVERY_START'].dt.dayofweek\n",
    "    df['month'] = df['DELIVERY_START'].dt.month\n",
    "\n",
    "\n",
    "    df['total_power'] = (df['coal_power_available'] + \n",
    "                                   df['gas_power_available'] + \n",
    "                                   df['nucelear_power_available'])\n",
    "    df['total_renewable'] = (df['wind_power_forecasts_average'] + \n",
    "                                      df['solar_power_forecasts_average'])\n",
    "\n",
    "    df['load_to_total_power_ratio'] = df['load_forecast'] / df['total_power']\n",
    "    df['renewable_to_nonrenewable_ratio'] = df['total_renewable'] / df['total_power']\n",
    "    \n",
    "    #rajouter des valeurs laggées genre 24 pour un jour avant\n",
    "\n",
    "#X_train = X_train.drop([\"predicted_spot_price\"], axis=1)\n",
    "X_train.set_index(\"DELIVERY_START\", inplace=True)\n",
    "\n",
    "#X_test = X_test.drop([\"predicted_spot_price\"], axis=1)\n",
    "X_test.set_index(\"DELIVERY_START\", inplace=True)"
   ]
  },
  {
   "cell_type": "code",
   "execution_count": 12,
   "id": "cf77e70e-a816-43aa-a488-5ff882aa097e",
   "metadata": {
    "tags": []
   },
   "outputs": [],
   "source": [
    "# Scaling\n",
    "scaler = StandardScaler()\n",
    "X_train_scaled = scaler.fit_transform(X_train)\n",
    "X_test_scaled = scaler.fit_transform(X_test)\n",
    "\n",
    "# Pour aborder le problème par l'angle de classif\n",
    "y_train['DELIVERY_START'] = pd.to_datetime(y_train[\"DELIVERY_START\"], utc=True)\n",
    "y_train.set_index(\"DELIVERY_START\", inplace=True)\n",
    "y_train[\"spot_id_delta\"] = np.where(y_train[\"spot_id_delta\"]>0, 1, 0)"
   ]
  },
  {
   "cell_type": "code",
   "execution_count": 13,
   "id": "1660dad7-c0b1-46fa-923a-cdb70aa4446a",
   "metadata": {
    "tags": []
   },
   "outputs": [],
   "source": [
    "# Redecoupage pour faire des test car on a pas le y_test\n",
    "X_train2, X_test2, y_train2, y_test2 = train_test_split(X_train, y_train, test_size=0.33, random_state=42)\n",
    "X_train2_scaled = scaler.fit_transform(X_train2)\n",
    "X_test2_scaled = scaler.fit_transform(X_test2)\n",
    "\n",
    "# Formattage pour éviter les erreurs\n",
    "y_train2 = np.ravel(y_train2)\n",
    "y_test2 = np.ravel(y_test2)"
   ]
  },
  {
   "cell_type": "code",
   "execution_count": 14,
   "id": "534f270c-72db-40f7-9b82-88b50aa5da00",
   "metadata": {
    "tags": []
   },
   "outputs": [
    {
     "name": "stdout",
     "output_type": "stream",
     "text": [
      "load_forecast                      0\n",
      "coal_power_available               0\n",
      "gas_power_available                0\n",
      "nucelear_power_available           0\n",
      "wind_power_forecasts_average       0\n",
      "solar_power_forecasts_average      0\n",
      "wind_power_forecasts_std           0\n",
      "solar_power_forecasts_std          0\n",
      "hour                               0\n",
      "day                                0\n",
      "month                              0\n",
      "total_power                        0\n",
      "total_renewable                    0\n",
      "load_to_total_power_ratio          0\n",
      "renewable_to_nonrenewable_ratio    0\n",
      "dtype: int64 load_forecast                      0\n",
      "coal_power_available               0\n",
      "gas_power_available                0\n",
      "nucelear_power_available           0\n",
      "wind_power_forecasts_average       0\n",
      "solar_power_forecasts_average      0\n",
      "wind_power_forecasts_std           0\n",
      "solar_power_forecasts_std          0\n",
      "hour                               0\n",
      "day                                0\n",
      "month                              0\n",
      "total_power                        0\n",
      "total_renewable                    0\n",
      "load_to_total_power_ratio          0\n",
      "renewable_to_nonrenewable_ratio    0\n",
      "dtype: int64\n"
     ]
    }
   ],
   "source": [
    "print(X_train.isna().sum(),\n",
    "     X_test.isna().sum())"
   ]
  },
  {
   "cell_type": "markdown",
   "id": "c6dd74e3-a7d2-4428-8ef6-7eae517207e7",
   "metadata": {},
   "source": [
    "### Modèles"
   ]
  },
  {
   "cell_type": "markdown",
   "id": "384d28fe-e9a0-478f-b21b-20d18c0b13fa",
   "metadata": {},
   "source": [
    "##### Régression logistique"
   ]
  },
  {
   "cell_type": "code",
   "execution_count": 15,
   "id": "79a6b4d2-d954-4513-b154-066ccf35ce58",
   "metadata": {
    "tags": []
   },
   "outputs": [
    {
     "name": "stdout",
     "output_type": "stream",
     "text": [
      "Confusion Matrix:\n",
      "\n",
      "Classification Report:\n",
      "              precision    recall  f1-score   support\n",
      "\n",
      "           0       0.51      0.53      0.52      1725\n",
      "           1       0.53      0.51      0.52      1775\n",
      "\n",
      "    accuracy                           0.52      3500\n",
      "   macro avg       0.52      0.52      0.52      3500\n",
      "weighted avg       0.52      0.52      0.52      3500\n",
      "\n",
      "\n",
      "Accuracy Score:\n",
      "0.5188571428571429\n"
     ]
    }
   ],
   "source": [
    "# Modèle de base avec fit classique\n",
    "model = LogisticRegression(random_state=42)\n",
    "model.fit(X_train2_scaled, y_train2)\n",
    "y_pred = model.predict(X_test2_scaled)\n",
    "\n",
    "print(\"Confusion Matrix:\")\n",
    "cm = confusion_matrix(y_test2, y_pred)\n",
    "ConfusionMatrixDisplay(confusion_matrix=cm,\n",
    "                       display_labels=model.classes_).plot()\n",
    "plt.show()\n",
    "print(\"\\nClassification Report:\")\n",
    "print(classification_report(y_test2, y_pred))\n",
    "print(\"\\nAccuracy Score:\")\n",
    "print(accuracy_score(y_test2, y_pred))"
   ]
  },
  {
   "cell_type": "code",
   "execution_count": 16,
   "id": "2f50f213-3342-482b-8e66-616a22775b36",
   "metadata": {
    "tags": []
   },
   "outputs": [
    {
     "name": "stderr",
     "output_type": "stream",
     "text": [
      "c:\\Users\\aikan\\anaconda3\\Lib\\site-packages\\sklearn\\model_selection\\_validation.py:425: FitFailedWarning: \n",
      "5 fits failed out of a total of 60.\n",
      "The score on these train-test partitions for these parameters will be set to nan.\n",
      "If these failures are not expected, you can try to debug them by setting error_score='raise'.\n",
      "\n",
      "Below are more details about the failures:\n",
      "--------------------------------------------------------------------------------\n",
      "5 fits failed with the following error:\n",
      "Traceback (most recent call last):\n",
      "  File \"c:\\Users\\aikan\\anaconda3\\Lib\\site-packages\\sklearn\\model_selection\\_validation.py\", line 732, in _fit_and_score\n",
      "    estimator.fit(X_train, y_train, **fit_params)\n",
      "  File \"c:\\Users\\aikan\\anaconda3\\Lib\\site-packages\\sklearn\\base.py\", line 1144, in wrapper\n",
      "    estimator._validate_params()\n",
      "  File \"c:\\Users\\aikan\\anaconda3\\Lib\\site-packages\\sklearn\\base.py\", line 637, in _validate_params\n",
      "    validate_parameter_constraints(\n",
      "  File \"c:\\Users\\aikan\\anaconda3\\Lib\\site-packages\\sklearn\\utils\\_param_validation.py\", line 95, in validate_parameter_constraints\n",
      "    raise InvalidParameterError(\n",
      "sklearn.utils._param_validation.InvalidParameterError: The 'C' parameter of LogisticRegression must be a float in the range (0.0, inf]. Got 0 instead.\n",
      "\n",
      "  warnings.warn(some_fits_failed_message, FitFailedWarning)\n",
      "c:\\Users\\aikan\\anaconda3\\Lib\\site-packages\\sklearn\\model_selection\\_search.py:976: UserWarning: One or more of the test scores are non-finite: [       nan 0.04351859 0.04295278 0.04266867 0.04266867 0.04266867\n",
      " 0.04266867 0.04266867 0.04266867 0.04266867 0.04266867 0.04266867]\n",
      "  warnings.warn(\n"
     ]
    },
    {
     "name": "stdout",
     "output_type": "stream",
     "text": [
      "Best parameters found:  {'C': 10}\n",
      "Best cross-validation score:  0.0435185898603503\n",
      "Nested CV score: 0.043 +/- 0.018\n"
     ]
    }
   ],
   "source": [
    "# Nested Cross-validation avec reg log\n",
    "\n",
    "# Metric MCC mais d'autres peuvent être dispo (f1, roc auc, rec, pre)\n",
    "scorer = make_scorer(matthews_corrcoef)\n",
    "reg_log =  LogisticRegression(penalty='l2', random_state=1, solver='lbfgs')\n",
    "param_grid = {'C': [0,10, 20, 30, 40, 50, 60, 70, 80, 90, 100, 110]}\n",
    "\n",
    "cv = StratifiedKFold(n_splits=5, shuffle=True, random_state=1)\n",
    "rs = RandomizedSearchCV(estimator=model,\n",
    "                        param_distributions=param_grid,\n",
    "                        scoring=scorer,\n",
    "                        refit=True,\n",
    "                        n_iter=12,\n",
    "                        cv=cv,\n",
    "                        random_state=1,\n",
    "                        n_jobs=-1)\n",
    "\n",
    "\n",
    "rs.fit(X_train2_scaled, y_train2)\n",
    "print(\"Best parameters found: \", rs.best_params_)\n",
    "print(\"Best cross-validation score: \", rs.best_score_)\n",
    "\n",
    "inner_cv = StratifiedKFold(n_splits=5, shuffle=True, random_state=1)\n",
    "\n",
    "nested_scores = cross_val_score(rs, X_train2_scaled, y_train2, \n",
    "                                scoring=scorer, cv=inner_cv, n_jobs=-1)\n",
    "print(f'Nested CV score: {np.mean(nested_scores):.3f} '\n",
    "      f'+/- {np.std(nested_scores):.3f}')"
   ]
  },
  {
   "cell_type": "markdown",
   "id": "3f84ac43-cb09-4f54-87c8-d2a7d61a8d30",
   "metadata": {},
   "source": [
    "##### Majority voting"
   ]
  },
  {
   "cell_type": "code",
   "execution_count": 17,
   "id": "bd476985-b3cb-43f2-9608-6db36c2bf7a4",
   "metadata": {
    "tags": []
   },
   "outputs": [],
   "source": [
    "# Combinaison de classifieur avec le majority voting\n",
    "log_clf = LogisticRegression(solver=\"lbfgs\", random_state=42)\n",
    "rnd_clf = RandomForestClassifier(n_estimators=500, random_state=42)\n",
    "svm_clf = SVC(gamma=\"scale\", random_state=42)\n",
    "\n",
    "voting_clf = VotingClassifier(\n",
    "    estimators=[('lr', log_clf), ('rf', rnd_clf), ('svc', svm_clf)],\n",
    "    voting='hard')"
   ]
  },
  {
   "cell_type": "code",
   "execution_count": 18,
   "id": "7fe3635e-2fff-489e-b994-03db1b588447",
   "metadata": {
    "tags": []
   },
   "outputs": [
    {
     "data": {
      "text/html": [
       "<style>#sk-container-id-1 {color: black;}#sk-container-id-1 pre{padding: 0;}#sk-container-id-1 div.sk-toggleable {background-color: white;}#sk-container-id-1 label.sk-toggleable__label {cursor: pointer;display: block;width: 100%;margin-bottom: 0;padding: 0.3em;box-sizing: border-box;text-align: center;}#sk-container-id-1 label.sk-toggleable__label-arrow:before {content: \"▸\";float: left;margin-right: 0.25em;color: #696969;}#sk-container-id-1 label.sk-toggleable__label-arrow:hover:before {color: black;}#sk-container-id-1 div.sk-estimator:hover label.sk-toggleable__label-arrow:before {color: black;}#sk-container-id-1 div.sk-toggleable__content {max-height: 0;max-width: 0;overflow: hidden;text-align: left;background-color: #f0f8ff;}#sk-container-id-1 div.sk-toggleable__content pre {margin: 0.2em;color: black;border-radius: 0.25em;background-color: #f0f8ff;}#sk-container-id-1 input.sk-toggleable__control:checked~div.sk-toggleable__content {max-height: 200px;max-width: 100%;overflow: auto;}#sk-container-id-1 input.sk-toggleable__control:checked~label.sk-toggleable__label-arrow:before {content: \"▾\";}#sk-container-id-1 div.sk-estimator input.sk-toggleable__control:checked~label.sk-toggleable__label {background-color: #d4ebff;}#sk-container-id-1 div.sk-label input.sk-toggleable__control:checked~label.sk-toggleable__label {background-color: #d4ebff;}#sk-container-id-1 input.sk-hidden--visually {border: 0;clip: rect(1px 1px 1px 1px);clip: rect(1px, 1px, 1px, 1px);height: 1px;margin: -1px;overflow: hidden;padding: 0;position: absolute;width: 1px;}#sk-container-id-1 div.sk-estimator {font-family: monospace;background-color: #f0f8ff;border: 1px dotted black;border-radius: 0.25em;box-sizing: border-box;margin-bottom: 0.5em;}#sk-container-id-1 div.sk-estimator:hover {background-color: #d4ebff;}#sk-container-id-1 div.sk-parallel-item::after {content: \"\";width: 100%;border-bottom: 1px solid gray;flex-grow: 1;}#sk-container-id-1 div.sk-label:hover label.sk-toggleable__label {background-color: #d4ebff;}#sk-container-id-1 div.sk-serial::before {content: \"\";position: absolute;border-left: 1px solid gray;box-sizing: border-box;top: 0;bottom: 0;left: 50%;z-index: 0;}#sk-container-id-1 div.sk-serial {display: flex;flex-direction: column;align-items: center;background-color: white;padding-right: 0.2em;padding-left: 0.2em;position: relative;}#sk-container-id-1 div.sk-item {position: relative;z-index: 1;}#sk-container-id-1 div.sk-parallel {display: flex;align-items: stretch;justify-content: center;background-color: white;position: relative;}#sk-container-id-1 div.sk-item::before, #sk-container-id-1 div.sk-parallel-item::before {content: \"\";position: absolute;border-left: 1px solid gray;box-sizing: border-box;top: 0;bottom: 0;left: 50%;z-index: -1;}#sk-container-id-1 div.sk-parallel-item {display: flex;flex-direction: column;z-index: 1;position: relative;background-color: white;}#sk-container-id-1 div.sk-parallel-item:first-child::after {align-self: flex-end;width: 50%;}#sk-container-id-1 div.sk-parallel-item:last-child::after {align-self: flex-start;width: 50%;}#sk-container-id-1 div.sk-parallel-item:only-child::after {width: 0;}#sk-container-id-1 div.sk-dashed-wrapped {border: 1px dashed gray;margin: 0 0.4em 0.5em 0.4em;box-sizing: border-box;padding-bottom: 0.4em;background-color: white;}#sk-container-id-1 div.sk-label label {font-family: monospace;font-weight: bold;display: inline-block;line-height: 1.2em;}#sk-container-id-1 div.sk-label-container {text-align: center;}#sk-container-id-1 div.sk-container {/* jupyter's `normalize.less` sets `[hidden] { display: none; }` but bootstrap.min.css set `[hidden] { display: none !important; }` so we also need the `!important` here to be able to override the default hidden behavior on the sphinx rendered scikit-learn.org. See: https://github.com/scikit-learn/scikit-learn/issues/21755 */display: inline-block !important;position: relative;}#sk-container-id-1 div.sk-text-repr-fallback {display: none;}</style><div id=\"sk-container-id-1\" class=\"sk-top-container\"><div class=\"sk-text-repr-fallback\"><pre>VotingClassifier(estimators=[(&#x27;lr&#x27;, LogisticRegression(random_state=42)),\n",
       "                             (&#x27;rf&#x27;,\n",
       "                              RandomForestClassifier(n_estimators=500,\n",
       "                                                     random_state=42)),\n",
       "                             (&#x27;svc&#x27;, SVC(random_state=42))])</pre><b>In a Jupyter environment, please rerun this cell to show the HTML representation or trust the notebook. <br />On GitHub, the HTML representation is unable to render, please try loading this page with nbviewer.org.</b></div><div class=\"sk-container\" hidden><div class=\"sk-item sk-dashed-wrapped\"><div class=\"sk-label-container\"><div class=\"sk-label sk-toggleable\"><input class=\"sk-toggleable__control sk-hidden--visually\" id=\"sk-estimator-id-1\" type=\"checkbox\" ><label for=\"sk-estimator-id-1\" class=\"sk-toggleable__label sk-toggleable__label-arrow\">VotingClassifier</label><div class=\"sk-toggleable__content\"><pre>VotingClassifier(estimators=[(&#x27;lr&#x27;, LogisticRegression(random_state=42)),\n",
       "                             (&#x27;rf&#x27;,\n",
       "                              RandomForestClassifier(n_estimators=500,\n",
       "                                                     random_state=42)),\n",
       "                             (&#x27;svc&#x27;, SVC(random_state=42))])</pre></div></div></div><div class=\"sk-parallel\"><div class=\"sk-parallel-item\"><div class=\"sk-item\"><div class=\"sk-label-container\"><div class=\"sk-label sk-toggleable\"><label>lr</label></div></div><div class=\"sk-serial\"><div class=\"sk-item\"><div class=\"sk-estimator sk-toggleable\"><input class=\"sk-toggleable__control sk-hidden--visually\" id=\"sk-estimator-id-2\" type=\"checkbox\" ><label for=\"sk-estimator-id-2\" class=\"sk-toggleable__label sk-toggleable__label-arrow\">LogisticRegression</label><div class=\"sk-toggleable__content\"><pre>LogisticRegression(random_state=42)</pre></div></div></div></div></div></div><div class=\"sk-parallel-item\"><div class=\"sk-item\"><div class=\"sk-label-container\"><div class=\"sk-label sk-toggleable\"><label>rf</label></div></div><div class=\"sk-serial\"><div class=\"sk-item\"><div class=\"sk-estimator sk-toggleable\"><input class=\"sk-toggleable__control sk-hidden--visually\" id=\"sk-estimator-id-3\" type=\"checkbox\" ><label for=\"sk-estimator-id-3\" class=\"sk-toggleable__label sk-toggleable__label-arrow\">RandomForestClassifier</label><div class=\"sk-toggleable__content\"><pre>RandomForestClassifier(n_estimators=500, random_state=42)</pre></div></div></div></div></div></div><div class=\"sk-parallel-item\"><div class=\"sk-item\"><div class=\"sk-label-container\"><div class=\"sk-label sk-toggleable\"><label>svc</label></div></div><div class=\"sk-serial\"><div class=\"sk-item\"><div class=\"sk-estimator sk-toggleable\"><input class=\"sk-toggleable__control sk-hidden--visually\" id=\"sk-estimator-id-4\" type=\"checkbox\" ><label for=\"sk-estimator-id-4\" class=\"sk-toggleable__label sk-toggleable__label-arrow\">SVC</label><div class=\"sk-toggleable__content\"><pre>SVC(random_state=42)</pre></div></div></div></div></div></div></div></div></div></div>"
      ],
      "text/plain": [
       "VotingClassifier(estimators=[('lr', LogisticRegression(random_state=42)),\n",
       "                             ('rf',\n",
       "                              RandomForestClassifier(n_estimators=500,\n",
       "                                                     random_state=42)),\n",
       "                             ('svc', SVC(random_state=42))])"
      ]
     },
     "execution_count": 18,
     "metadata": {},
     "output_type": "execute_result"
    }
   ],
   "source": [
    "voting_clf.fit(X_train2_scaled, y_train2)"
   ]
  },
  {
   "cell_type": "code",
   "execution_count": 19,
   "id": "35a26991-cd06-4704-bbeb-c03891da7ada",
   "metadata": {
    "tags": []
   },
   "outputs": [
    {
     "name": "stdout",
     "output_type": "stream",
     "text": [
      "LogisticRegression 0.5188571428571429\n",
      "RandomForestClassifier 0.7808571428571428\n",
      "SVC 0.6194285714285714\n",
      "VotingClassifier 0.6828571428571428\n"
     ]
    }
   ],
   "source": [
    "for clf in (log_clf, rnd_clf, svm_clf, voting_clf):\n",
    "    clf.fit(X_train2_scaled, y_train2)\n",
    "    y_pred = clf.predict(X_test2_scaled)\n",
    "    print(clf.__class__.__name__, accuracy_score(y_test2, y_pred))"
   ]
  },
  {
   "cell_type": "code",
   "execution_count": 20,
   "id": "1608b176-79a6-44eb-acda-991a24997192",
   "metadata": {
    "tags": []
   },
   "outputs": [],
   "source": [
    "# Soft voting\n",
    "log_clf = LogisticRegression(solver=\"lbfgs\", random_state=42)\n",
    "rnd_clf = RandomForestClassifier(n_estimators=500, random_state=42)\n",
    "\n",
    "svm_clf = SVC(gamma=\"scale\", probability=True, random_state=42)\n",
    "\n",
    "voting_clf = VotingClassifier(\n",
    "    estimators=[('lr', log_clf), ('rf', rnd_clf), ('svc', svm_clf)],\n",
    "    voting='soft')"
   ]
  },
  {
   "cell_type": "code",
   "execution_count": 21,
   "id": "bda3e806-e98d-4a60-9506-6109c620abec",
   "metadata": {
    "tags": []
   },
   "outputs": [
    {
     "name": "stdout",
     "output_type": "stream",
     "text": [
      "LogisticRegression 0.5188571428571429\n",
      "RandomForestClassifier 0.7808571428571428\n",
      "SVC 0.6194285714285714\n",
      "VotingClassifier 0.7414285714285714\n"
     ]
    }
   ],
   "source": [
    "for clf in (log_clf, rnd_clf, svm_clf, voting_clf):\n",
    "    clf.fit(X_train2_scaled, y_train2)\n",
    "    y_pred = clf.predict(X_test2_scaled)\n",
    "    print(clf.__class__.__name__, accuracy_score(y_test2, y_pred))"
   ]
  },
  {
   "cell_type": "markdown",
   "id": "1f92375b-beeb-4372-ad65-43fbdaf98d35",
   "metadata": {},
   "source": [
    "##### Random forest"
   ]
  },
  {
   "cell_type": "code",
   "execution_count": 22,
   "id": "d31f8b01-be84-4725-abf9-91f33cdf4ce7",
   "metadata": {
    "tags": []
   },
   "outputs": [
    {
     "data": {
      "text/plain": [
       "0.7808571428571428"
      ]
     },
     "execution_count": 22,
     "metadata": {},
     "output_type": "execute_result"
    }
   ],
   "source": [
    "rf = RandomForestClassifier(n_estimators=500, random_state=42)\n",
    "rf.fit(X_train2_scaled, y_train2)\n",
    "\n",
    "y_pred_rf = rf.predict(X_test2_scaled)\n",
    "accuracy_score(y_test2, y_pred_rf)"
   ]
  },
  {
   "cell_type": "code",
   "execution_count": 23,
   "id": "231033db-c4bb-4ea3-b8ba-0c3d746906d4",
   "metadata": {},
   "outputs": [
    {
     "name": "stdout",
     "output_type": "stream",
     "text": [
      "Best parameters found:  {'max_depth': None}\n",
      "Best cross-validation score:  0.534762111035209\n",
      "Nested CV score: 0.533 +/- 0.021\n"
     ]
    }
   ],
   "source": [
    "# Avec nested CV\n",
    "rf_clf = RandomForestClassifier(n_estimators=500 ,random_state=1)\n",
    "scorer = make_scorer(matthews_corrcoef)\n",
    "\n",
    "param_grid = {\n",
    "    'max_depth': [None,10, 20, 30, 40, 50, 60, 70, 80, 90, 100, 110]}\n",
    "\n",
    "inner_cv = StratifiedKFold(n_splits=5, shuffle=True, random_state=1)\n",
    "outer_cv = StratifiedKFold(n_splits=5, shuffle=True, random_state=1)\n",
    "\n",
    "rs = RandomizedSearchCV(estimator=rf_clf,\n",
    "                        param_distributions=param_grid,\n",
    "                        scoring=scorer,\n",
    "                        refit=True,\n",
    "                        n_iter=12,\n",
    "                        cv=inner_cv,\n",
    "                        random_state=1,\n",
    "                        n_jobs=-1)\n",
    "\n",
    "\n",
    "rs.fit(X_train2_scaled, y_train2)\n",
    "print(\"Best parameters found: \", rs.best_params_)\n",
    "print(\"Best cross-validation score: \", rs.best_score_)\n",
    "\n",
    "\n",
    "nested_scores = cross_val_score(rs, X_train2_scaled, y_train2, \n",
    "                                scoring=scorer, cv=outer_cv, n_jobs=-1)\n",
    "print(f'Nested CV score: {np.mean(nested_scores):.3f} '\n",
    "      f'+/- {np.std(nested_scores):.3f}')\n"
   ]
  },
  {
   "cell_type": "markdown",
   "id": "1d8ee890-e8b6-4879-891f-78548786a861",
   "metadata": {},
   "source": [
    "##### AdaBoost"
   ]
  },
  {
   "cell_type": "code",
   "execution_count": 24,
   "id": "ea764cd5-cf4c-4aa2-a139-ae054a207681",
   "metadata": {},
   "outputs": [
    {
     "name": "stderr",
     "output_type": "stream",
     "text": [
      "c:\\Users\\aikan\\anaconda3\\Lib\\site-packages\\sklearn\\ensemble\\_base.py:156: FutureWarning: `base_estimator` was renamed to `estimator` in version 1.2 and will be removed in 1.4.\n",
      "  warnings.warn(\n"
     ]
    },
    {
     "name": "stdout",
     "output_type": "stream",
     "text": [
      "AdaBoost train/test accuracies 0.613/0.577\n"
     ]
    }
   ],
   "source": [
    "tree = DecisionTreeClassifier(max_depth=1, random_state=1)\n",
    "ada = AdaBoostClassifier(base_estimator=tree,\n",
    "                         n_estimators=500, \n",
    "                         learning_rate=0.1,\n",
    "                         random_state=1)\n",
    "\n",
    "ada = ada.fit(X_train2_scaled, y_train2)\n",
    "y_train_pred = ada.predict(X_train2_scaled)\n",
    "y_test_pred = ada.predict(X_test2_scaled)\n",
    "\n",
    "ada_train = accuracy_score(y_train2, y_train_pred) \n",
    "ada_test = accuracy_score(y_test2, y_test_pred) \n",
    "print(f'AdaBoost train/test accuracies '\n",
    "      f'{ada_train:.3f}/{ada_test:.3f}')"
   ]
  },
  {
   "cell_type": "code",
   "execution_count": 25,
   "id": "8202a2c1-adec-4fa1-85a0-cec03351fa7d",
   "metadata": {},
   "outputs": [
    {
     "name": "stderr",
     "output_type": "stream",
     "text": [
      "c:\\Users\\aikan\\anaconda3\\Lib\\site-packages\\sklearn\\ensemble\\_base.py:156: FutureWarning: `base_estimator` was renamed to `estimator` in version 1.2 and will be removed in 1.4.\n",
      "  warnings.warn(\n"
     ]
    },
    {
     "name": "stdout",
     "output_type": "stream",
     "text": [
      "Best parameters found:  {'learning_rate': 0.08363636363636363}\n",
      "Best cross-validation score:  0.15695722122661998\n",
      "Nested CV accuracy: 0.152 +/- 0.027\n"
     ]
    }
   ],
   "source": [
    "# Avec nested CV\n",
    "ada = AdaBoostClassifier(base_estimator=tree,\n",
    "                         n_estimators=500, \n",
    "                         learning_rate=0.1,\n",
    "                         random_state=1)\n",
    "scorer = make_scorer(matthews_corrcoef)\n",
    "\n",
    "param_grid = {'learning_rate': np.linspace(0.01, 0.1, 12)}\n",
    "\n",
    "inner_cv = StratifiedKFold(n_splits=5, shuffle=True, random_state=1)\n",
    "outer_cv = StratifiedKFold(n_splits=5, shuffle=True, random_state=1)\n",
    "\n",
    "\n",
    "rs = RandomizedSearchCV(estimator=ada,\n",
    "                        param_distributions=param_grid,\n",
    "                        scoring=scorer,\n",
    "                        refit=True,\n",
    "                        n_iter=12,\n",
    "                        cv=inner_cv,\n",
    "                        random_state=1,\n",
    "                        n_jobs=-1)\n",
    "\n",
    "\n",
    "rs.fit(X_train2_scaled, y_train2)\n",
    "print(\"Best parameters found: \", rs.best_params_)\n",
    "print(\"Best cross-validation score: \", rs.best_score_)\n",
    "\n",
    "\n",
    "nested_scores = cross_val_score(rs, X_train2_scaled, y_train2, \n",
    "                                scoring=scorer, cv=outer_cv, n_jobs=-1)\n",
    "print(f'Nested CV accuracy: {np.mean(nested_scores):.3f} '\n",
    "      f'+/- {np.std(nested_scores):.3f}')\n"
   ]
  },
  {
   "cell_type": "markdown",
   "id": "7900effa-1397-4c19-a612-cf3e006489a5",
   "metadata": {},
   "source": [
    "##### XGBoost"
   ]
  },
  {
   "cell_type": "code",
   "execution_count": 29,
   "id": "3042cb8a-1dcd-4481-bd30-8e37c54a4267",
   "metadata": {
    "tags": []
   },
   "outputs": [
    {
     "name": "stdout",
     "output_type": "stream",
     "text": [
      "XGboost train/test accuracies 0.898/0.644\n"
     ]
    }
   ],
   "source": [
    "# Généralement un learning rate entre 0.01 and 0.1\n",
    "xgbc = xgb.XGBClassifier(n_estimators=5000, learning_rate=0.01, max_depth=4, random_state=42, use_label_encoder=False)\n",
    "\n",
    "gbm = xgbc.fit(X_train2_scaled, y_train2)\n",
    "\n",
    "y_train_pred = gbm.predict(X_train2_scaled)\n",
    "y_test_pred = gbm.predict(X_test2_scaled)\n",
    "\n",
    "gbm_train = accuracy_score(y_train2, y_train_pred) \n",
    "gbm_test = accuracy_score(y_test2, y_test_pred) \n",
    "print(f'XGboost train/test accuracies '\n",
    "      f'{gbm_train:.3f}/{gbm_test:.3f}')"
   ]
  },
  {
   "cell_type": "code",
   "execution_count": 47,
   "id": "ad8c10b5-9f3b-4221-85d0-fe314dc2ea0d",
   "metadata": {
    "tags": []
   },
   "outputs": [
    {
     "name": "stdout",
     "output_type": "stream",
     "text": [
      "Best parameters found:  {'max_depth': 20, 'learning_rate': 0.01}\n",
      "Best cross-validation score:  0.5105276793334005\n"
     ]
    },
    {
     "ename": "",
     "evalue": "",
     "output_type": "error",
     "traceback": [
      "\u001b[1;31mFailed to interrupt the Kernel. \n",
      "\u001b[1;31mUnable to start Kernel 'Python 3.11.5' due to a connection timeout. \n",
      "\u001b[1;31mView Jupyter <a href='command:jupyter.viewOutput'>log</a> for further details."
     ]
    }
   ],
   "source": [
    "# Avec Nested CV\n",
    "\n",
    "xgb_clf = xgb.XGBClassifier(n_estimators=5000, \n",
    "                            random_state=42, \n",
    "                            use_label_encoder=False, \n",
    "                            eval_metric='logloss')\n",
    "scorer = make_scorer(matthews_corrcoef)\n",
    "\n",
    "param_grid = {\n",
    "    'max_depth': np.linspace(2, 20, 11, dtype=int),\n",
    "    'learning_rate': np.linspace(0.01, 0.1, 11)\n",
    "}\n",
    "inner_cv = StratifiedKFold(n_splits=5, shuffle=True, random_state=1)\n",
    "outer_cv = StratifiedKFold(n_splits=5, shuffle=True, random_state=1)\n",
    "\n",
    "rs = RandomizedSearchCV(estimator=xgb_clf,\n",
    "                        param_distributions=param_grid,\n",
    "                        scoring=scorer,\n",
    "                        refit=True,\n",
    "                        n_iter=12,\n",
    "                        cv=inner_cv,\n",
    "                        random_state=42,\n",
    "                        n_jobs=-1)\n",
    "\n",
    "rs.fit(X_train2_scaled, y_train2)\n",
    "print(\"Best parameters found: \", rs.best_params_)\n",
    "print(\"Best cross-validation score: \", rs.best_score_)\n",
    "\n",
    "nested_scores = cross_val_score(rs, X_train2_scaled, y_train2, \n",
    "                                scoring=scorer, cv=outer_cv, n_jobs=-1)\n",
    "print(f'Nested CV MCC: {np.mean(nested_scores):.3f} '\n",
    "      f'+/- {np.std(nested_scores):.3f}')"
   ]
  },
  {
   "cell_type": "markdown",
   "id": "fc25dc13-5ea1-4fc0-bacf-0395dfd37e2c",
   "metadata": {},
   "source": [
    "## Courbes d'apprentissage et de validation"
   ]
  },
  {
   "cell_type": "code",
   "execution_count": 32,
   "id": "ff33c4b1-e6c8-4a00-abb0-09f77c9e7f89",
   "metadata": {
    "tags": []
   },
   "outputs": [],
   "source": [
    "xgb_clf_opti = xgb.XGBClassifier(n_estimators=5000, \n",
    "                            random_state=42, \n",
    "                            use_label_encoder=False, \n",
    "                            eval_metric='logloss', \n",
    "                            max_depth=20, \n",
    "                           learning_rate=0.01)\n",
    "\n",
    "Strat_kfold = StratifiedKFold(n_splits=10, shuffle=True, random_state=1)\n",
    "\n",
    "train_sizes, train_scores, test_scores = learning_curve(estimator=xgb_clf_opti,\n",
    "                                                        X=X_train2_scaled,\n",
    "                                                        y=y_train2,\n",
    "                                                        train_sizes=np.linspace(0.1, 1.0, 10),\n",
    "                                                        cv=Strat_kfold,\n",
    "                                                        n_jobs=-1)\n",
    "\n",
    "train_mean = np.mean(train_scores, axis=1)\n",
    "train_std = np.std(train_scores, axis=1)\n",
    "test_mean = np.mean(test_scores, axis=1)\n",
    "test_std = np.std(test_scores, axis=1)\n",
    "\n",
    "plt.plot(train_sizes, train_mean,\n",
    "         color='blue', marker='o',\n",
    "         markersize=5, label='Training accuracy')\n",
    "plt.fill_between(train_sizes,\n",
    "                 train_mean + train_std,\n",
    "                 train_mean - train_std,\n",
    "                 alpha=0.15, color='blue')\n",
    "plt.plot(train_sizes, test_mean,\n",
    "         color='green', linestyle='--',\n",
    "         marker='s', markersize=5,\n",
    "         label='Validation accuracy')\n",
    "plt.fill_between(train_sizes,\n",
    "                 test_mean + test_std,\n",
    "                 test_mean - test_std,\n",
    "                 alpha=0.15, color='green')\n",
    "plt.grid()\n",
    "plt.xlabel('Number of training examples')\n",
    "plt.ylabel('Accuracy')\n",
    "plt.legend(loc='lower right')\n",
    "plt.ylim([0.8, 1.03])\n",
    "plt.tight_layout()\n",
    "plt.show()"
   ]
  },
  {
   "cell_type": "markdown",
   "id": "6ce65b4e-4588-4fe7-a4ba-b1f15d79b6cb",
   "metadata": {},
   "source": [
    "## Courbes ROC"
   ]
  },
  {
   "cell_type": "code",
   "execution_count": 27,
   "id": "ef57d05b-e2a8-4c5d-aca6-2aeabcb7d47a",
   "metadata": {
    "tags": []
   },
   "outputs": [],
   "source": [
    "\n",
    "%matplotlib inline\n",
    "\n",
    "def roc_curve(classifier, cv, X, y, title='ROC Curve'):\n",
    "    tprs = []\n",
    "    aucs = []\n",
    "    mean_fpr = np.linspace(0, 1, 100)\n",
    "\n",
    "    i = 0\n",
    "    for train, test in cv.split(X, y):\n",
    "        probas_ = classifier.fit(X[train], y[train]).predict_proba(X[test])\n",
    "        fpr, tpr, thresholds = roc_curve(y[test], probas_[:, 1])\n",
    "        tprs.append(interp(mean_fpr, fpr, tpr))\n",
    "        \n",
    "        tprs[-1][0] = 0.0\n",
    "        roc_auc = auc(fpr, tpr)\n",
    "        aucs.append(roc_auc)\n",
    "        plt.plot(fpr, tpr, lw=1, alpha=0.3,\n",
    "                 label='ROC fold %d (AUC = %0.2f)' % (i, roc_auc))\n",
    "\n",
    "        i += 1\n",
    "    plt.plot([0, 1], [0, 1], linestyle='--', lw=2, color='r',\n",
    "             label='Luck', alpha=.8)\n",
    "    \n",
    "    mean_tpr = np.mean(tprs, axis=0)\n",
    "    mean_tpr[-1] = 1.0\n",
    "    mean_auc = auc(mean_fpr, mean_tpr)\n",
    "    std_auc = np.std(aucs)\n",
    "    plt.plot(mean_fpr, mean_tpr, color='b',\n",
    "             label=r'Mean ROC (AUC = %0.2f $\\pm$ %0.2f)' % (mean_auc, std_auc),\n",
    "             lw=2, alpha=.8)\n",
    "\n",
    "    std_tpr = np.std(tprs, axis=0)\n",
    "    tprs_upper = np.minimum(mean_tpr + std_tpr, 1)\n",
    "    tprs_lower = np.maximum(mean_tpr - std_tpr, 0)\n",
    "    plt.fill_between(mean_fpr, tprs_lower, tprs_upper, color='grey', alpha=.2,\n",
    "                     label=r'$\\pm$ 1 std. dev.')\n",
    "\n",
    "    plt.xlim([-0.05, 1.05])\n",
    "    plt.ylim([-0.05, 1.05])\n",
    "    plt.xlabel('False Positive Rate')\n",
    "    plt.ylabel('True Positive Rate')\n",
    "    plt.title(title)\n",
    "    plt.legend(loc=\"lower right\")\n",
    "    plt.show()\n",
    "\n",
    "\n",
    "def draw_cv_pr_curve(classifier, cv, X, y, title='PR Curve'):\n",
    "    y_real = []\n",
    "    y_proba = []\n",
    "\n",
    "    i = 0\n",
    "    for train, test in cv.split(X, y):\n",
    "        probas_ = classifier.fit(X[train], y[train]).predict_proba(X[test])\n",
    "        # Compute ROC curve and area the curve\n",
    "        precision, recall, _ = precision_recall_curve(y[test], probas_[:, 1])\n",
    "        \n",
    "        # Plotting each individual PR Curve\n",
    "        plt.plot(recall, precision, lw=1, alpha=0.3,\n",
    "                 label='PR fold %d (AUC = %0.2f)' % (i, average_precision_score(y[test], probas_[:, 1])))\n",
    "        \n",
    "        y_real.append(y[test])\n",
    "        y_proba.append(probas_[:, 1])\n",
    "\n",
    "        i += 1\n",
    "    \n",
    "    y_real = np.concatenate(y_real)\n",
    "    y_proba = np.concatenate(y_proba)\n",
    "    \n",
    "    precision, recall, _ = precision_recall_curve(y_real, y_proba)\n",
    "\n",
    "    plt.plot(recall, precision, color='b',\n",
    "             label=r'Precision-Recall (AUC = %0.2f)' % (average_precision_score(y_real, y_proba)),\n",
    "             lw=2, alpha=.8)\n",
    "\n",
    "    plt.xlim([-0.05, 1.05])\n",
    "    plt.ylim([-0.05, 1.05])\n",
    "    plt.xlabel('Recall')\n",
    "    plt.ylabel('Precision')\n",
    "    plt.title(title)\n",
    "    plt.legend(loc=\"lower right\")\n",
    "    plt.show()"
   ]
  },
  {
   "cell_type": "code",
   "execution_count": 28,
   "id": "9cbd8451-f88c-43fb-8eaa-c9d4e1565899",
   "metadata": {
    "tags": []
   },
   "outputs": [
    {
     "data": {
      "image/png": "[encoded data removed]",
      "text/plain": [
       "<Figure size 640x480 with 1 Axes>"
      ]
     },
     "metadata": {},
     "output_type": "display_data"
    }
   ],
   "source": [
    "xgb_clf_opti = xgb.XGBClassifier(n_estimators=5000, \n",
    "                            random_state=42, \n",
    "                            use_label_encoder=False, \n",
    "                            eval_metric='logloss', \n",
    "                            max_depth=20, \n",
    "                           learning_rate=0.01)\n",
    "stratcv = StratifiedKFold(n_splits=10)\n",
    "draw_cv_roc_curve(xgb_clf_opti, stratcv, X_train2_scaled, y_train2)"
   ]
  },
  {
   "cell_type": "code",
   "execution_count": 31,
   "id": "7bfc27fd-5989-41b9-8d95-11f964ef8f95",
   "metadata": {
    "tags": []
   },
   "outputs": [
    {
     "data": {
      "image/png": "[encoded data removed]",
      "text/plain": [
       "<Figure size 640x480 with 1 Axes>"
      ]
     },
     "metadata": {},
     "output_type": "display_data"
    }
   ],
   "source": [
    "draw_cv_pr_curve(xgb_clf_opti, stratcv, X_train2_scaled, y_train2)"
   ]
  },
  {
   "cell_type": "markdown",
   "id": "0d0a0f69",
   "metadata": {},
   "source": [
    "# Classification avec ACP"
   ]
  },
  {
   "cell_type": "code",
   "execution_count": null,
   "id": "2f1af924",
   "metadata": {},
   "outputs": [],
   "source": [
    "#Normalisation des données\n",
    "\n",
    "scaler = StandardScaler()\n",
    "X_scaled = scaler.fit_transform(X_train)"
   ]
  }
 ],
 "metadata": {
  "kernelspec": {
   "display_name": "Python 3 (ipykernel)",
   "language": "python",
   "name": "python3"
  },
  "language_info": {
   "codemirror_mode": {
    "name": "ipython",
    "version": 3
   },
   "file_extension": ".py",
   "mimetype": "text/x-python",
   "name": "python",
   "nbconvert_exporter": "python",
   "pygments_lexer": "ipython3",
   "version": "3.11.5"
  }
 },
 "nbformat": 4,
 "nbformat_minor": 5
}
